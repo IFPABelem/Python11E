{
 "cells": [
  {
   "cell_type": "markdown",
   "metadata": {},
   "source": [
    "# Revisão em Tópicos Especiais em Desenvolvimento de Sistemas\n",
    "\n",
    "**Aluno:** Tiago Danin\n",
    "\n",
    "## 1. Imprima a frase “Tópicos Especiais em Desenvolvimento de sistemas!\""
   ]
  },
  {
   "cell_type": "code",
   "execution_count": 3,
   "metadata": {},
   "outputs": [
    {
     "name": "stdout",
     "output_type": "stream",
     "text": [
      "Tópicos Especiais em Desenvolvimento de sistemas!\n"
     ]
    }
   ],
   "source": [
    "print(\"Tópicos Especiais em Desenvolvimento de sistemas!\")"
   ]
  },
  {
   "cell_type": "markdown",
   "metadata": {},
   "source": [
    "## 2. Faça operações matemáticas de soma, subtração, multiplicação e divisão entre dois valores."
   ]
  },
  {
   "cell_type": "code",
   "execution_count": 8,
   "metadata": {},
   "outputs": [
    {
     "name": "stdout",
     "output_type": "stream",
     "text": [
      "Soma: 3\n",
      "Subtração: -1\n",
      "Multiplicação: 2\n",
      "Divisão: 0.5\n"
     ]
    }
   ],
   "source": [
    "a, b = 1, 2\n",
    "print(\"Soma:\", a + b)\n",
    "print(\"Subtração:\", a - b)\n",
    "print(\"Multiplicação:\", a * b)\n",
    "print(\"Divisão:\", a / b)"
   ]
  },
  {
   "cell_type": "markdown",
   "metadata": {},
   "source": [
    "## 3. Imprima o tipo de um determinado valor inteiro."
   ]
  },
  {
   "cell_type": "code",
   "execution_count": 7,
   "metadata": {},
   "outputs": [
    {
     "data": {
      "text/plain": [
       "int"
      ]
     },
     "execution_count": 7,
     "metadata": {},
     "output_type": "execute_result"
    }
   ],
   "source": [
    "a = 1\n",
    "type(a)"
   ]
  },
  {
   "cell_type": "markdown",
   "metadata": {},
   "source": [
    "## 4. Converta o valor passado anteriormente para o tipo float"
   ]
  },
  {
   "cell_type": "code",
   "execution_count": 13,
   "metadata": {},
   "outputs": [
    {
     "name": "stdout",
     "output_type": "stream",
     "text": [
      "<class 'float'>\n"
     ]
    }
   ],
   "source": [
    "a = 1\n",
    "b = float(a)\n",
    "print(type(b))"
   ]
  },
  {
   "cell_type": "markdown",
   "metadata": {},
   "source": [
    "## 5. Faça a conversão do valor float recebido anteriormente para o tipo string"
   ]
  },
  {
   "cell_type": "code",
   "execution_count": 15,
   "metadata": {},
   "outputs": [
    {
     "name": "stdout",
     "output_type": "stream",
     "text": [
      "<class 'str'>\n"
     ]
    }
   ],
   "source": [
    "a = 1\n",
    "b = float(a)\n",
    "c = str(b)\n",
    "print(type(c))"
   ]
  },
  {
   "cell_type": "markdown",
   "metadata": {},
   "source": [
    "## 6.  Utilizando funções de arredonamento faça:\n",
    "- Arredonde o valor 2.898\n",
    "- Arredonde o valor 2.4545455 e exiba apenas 4 cadas decimais"
   ]
  },
  {
   "cell_type": "code",
   "execution_count": 16,
   "metadata": {},
   "outputs": [
    {
     "name": "stdout",
     "output_type": "stream",
     "text": [
      "3\n"
     ]
    }
   ],
   "source": [
    "a = 2.898\n",
    "print(round(a))"
   ]
  },
  {
   "cell_type": "code",
   "execution_count": 17,
   "metadata": {},
   "outputs": [
    {
     "name": "stdout",
     "output_type": "stream",
     "text": [
      "2.4545\n"
     ]
    }
   ],
   "source": [
    "a = 2.4545455\n",
    "print(round(a, 4))"
   ]
  },
  {
   "cell_type": "markdown",
   "metadata": {},
   "source": [
    "## 7. Utilizando variáveis faça:\n",
    "- Defina uma variável com o seu nome e imprima o seu valor.\n",
    "- Imprima o tipo dessa variável.\n",
    "- Substitua o valor da sua variável nome com a concatenação do seu valor e o seu sobrenome, depois, imprima o novo valor.\n",
    "- obs: O resultado dessa variável será Nome Sobrenome, exemplo, Wellington Moraes.\n",
    "- Defina duas variaveis com os valores do seu email e idade com apenas uma linha de comando, depois, imprima seus valores."
   ]
  },
  {
   "cell_type": "code",
   "execution_count": 19,
   "metadata": {},
   "outputs": [
    {
     "name": "stdout",
     "output_type": "stream",
     "text": [
      "Nome: Tiago\n",
      "Tipo: <class 'str'>\n",
      "Nome: Tiago Danin\n",
      "Email: TiagoDanin@outlook.com\n",
      "Idade: 21\n"
     ]
    }
   ],
   "source": [
    "nome = \"Tiago\"\n",
    "print(f\"Nome: {nome}\")\n",
    "print(f\"Tipo: {type(nome)}\")\n",
    "nome += \" Danin\"\n",
    "print(f\"Nome: {nome}\")\n",
    "email, idade = \"TiagoDanin@outlook.com\", 21\n",
    "print(f\"Email: {email}\")\n",
    "print(f\"Idade: {idade}\")"
   ]
  },
  {
   "cell_type": "markdown",
   "metadata": {},
   "source": [
    "## 8. Explique a causa do erro se executar a seguinte instrução para criar uma nova variável: break=10"
   ]
  },
  {
   "cell_type": "code",
   "execution_count": 20,
   "metadata": {},
   "outputs": [
    {
     "ename": "SyntaxError",
     "evalue": "invalid syntax (<ipython-input-20-f29ea38ec5bd>, line 1)",
     "output_type": "error",
     "traceback": [
      "\u001b[0;36m  File \u001b[0;32m\"<ipython-input-20-f29ea38ec5bd>\"\u001b[0;36m, line \u001b[0;32m1\u001b[0m\n\u001b[0;31m    break=10\u001b[0m\n\u001b[0m         ^\u001b[0m\n\u001b[0;31mSyntaxError\u001b[0m\u001b[0;31m:\u001b[0m invalid syntax\n"
     ]
    }
   ],
   "source": [
    "break=10"
   ]
  },
  {
   "cell_type": "markdown",
   "metadata": {},
   "source": [
    "> `break` é uma palavra revesada na syntax de Python. Em Python não se pode criar variável com com nome de palavras revesadas "
   ]
  },
  {
   "cell_type": "markdown",
   "metadata": {},
   "source": [
    "## 9. Sobre os objetos Strings, faça:\n",
    "- Defina uma variavel com a string: \"Python é uma maldição!\" e imprima\n",
    "- Imprima o primeiro caracter da variavel.\n",
    "- Imprima os valores do primeiro caracter até o 6.\n",
    "- Faça a contagem de todos os caracteres utilizando uma única linha de comando.\n",
    "- Faça uma contagem de quantos vezes a palavra dados aparece na seguinte frase:\n",
    "- \"dados é o novo petróleo, em Deus eu confio, para o resto me traga dados..\"\n",
    "- Substitua o primeiro caracter da frase acima para maiúsculo\n",
    "- Quebre as palavras da frase separado por virgula, criando uma lista."
   ]
  },
  {
   "cell_type": "code",
   "execution_count": 1,
   "metadata": {},
   "outputs": [
    {
     "name": "stdout",
     "output_type": "stream",
     "text": [
      "Python é uma maldição!\n",
      "P\n",
      "Python\n",
      "22\n",
      "2\n",
      "Dados é o novo petróleo, em deus eu confio, para o resto me traga dados..\n",
      "['Dados', 'é', 'o', 'novo', 'petróleo,', 'em', 'deus', 'eu', 'confio,', 'para', 'o', 'resto', 'me', 'traga', 'dados..']\n"
     ]
    }
   ],
   "source": [
    "python = \"Python é uma maldição!\"\n",
    "print(python)\n",
    "print(python[0])\n",
    "print(python[:6])\n",
    "print(len(python))\n",
    "dadoString = \"dados é o novo petróleo, em Deus eu confio, para o resto me traga dados..\"\n",
    "print(dadoString.count(\"dados\"))\n",
    "dadoString = dadoString.capitalize()\n",
    "print(dadoString)\n",
    "dadoLista =  dadoString.split(' ')\n",
    "print(dadoLista)"
   ]
  },
  {
   "cell_type": "markdown",
   "metadata": {},
   "source": [
    "## 10. Trabalhando com Listas, faça:\n",
    "- Cria uma lista de valores inteiros com o nome idades.\n",
    "- Imprima apenas segundo elemento da lista.\n",
    "- Imprima a contagem de valores da lista.\n",
    "- Substitua o valor do segundo elemento da lista e imprima o resultado.\n",
    "- Imprima apenas os valores do segundo elemento em diante.\n",
    "- Remova qualquer elemento da lista e imprima o resultado.\n",
    "- Defina uma lista chamada salarios com os valores : 900,1200,1500,800,12587,10000.\n",
    "- Verifique se contém o valor 10000 na lista de salarios.\n",
    "- Imprima o menor e maior valor da lista.\n",
    "- Adicione o valor 7000 a lista.\n",
    "- Extenda a lista com dois novos elementos utilizando apenas um método.\n",
    "- Imprima o índice do elemento de valor 800 da lista de salarios.\n",
    "- Faça uma ordenação dos valores da lista de salarios em ordem crescente e decrescente."
   ]
  },
  {
   "cell_type": "code",
   "execution_count": 58,
   "metadata": {},
   "outputs": [
    {
     "name": "stdout",
     "output_type": "stream",
     "text": [
      "1\n",
      "11\n",
      "20\n",
      "[2, 3, 4, 5, 6, 7, 8, 9, 10]\n",
      "[]\n",
      "Maior: 12587\n",
      "Menor: 800\n",
      "[200, 500, 700, 800, 900, 1200, 1500, 10000, 12587]\n",
      "3\n",
      "[200, 500, 700, 800, 900, 1200, 1500, 10000, 12587]\n",
      "[12587, 10000, 1500, 1200, 900, 800, 700, 500, 200]\n"
     ]
    }
   ],
   "source": [
    "idades = [0, 1, 2, 3, 4, 5, 6, 7, 8, 9, 10]\n",
    "print(idades[1])\n",
    "print(len(idades))\n",
    "idades[1] = 20\n",
    "\n",
    "print(idades[1])\n",
    "print(idades[2:])\n",
    "idades.clear()\n",
    "print(idades)\n",
    "\n",
    "salarios = [900, 1200, 1500, 800, 12587, 10000]\n",
    "salarios.sort()\n",
    "\n",
    "print(f\"Maior: {salarios[-1]}\")\n",
    "print(f\"Menor: {salarios[0]}\")\n",
    "\n",
    "salarios.append(700)\n",
    "salarios.extend([500, 200])\n",
    "print(salarios)\n",
    "\n",
    "print(salarios.index(800))\n",
    "\n",
    "print(sorted(salarios))\n",
    "print(sorted(salarios, reverse=True))"
   ]
  },
  {
   "cell_type": "markdown",
   "metadata": {},
   "source": [
    "## 11. Trabalhando com arquivos\n",
    "- Crie um arquivo txt com o nome Registro.txt\n",
    "- Abra-o no modo de escrita insira o texto: Desenvolver programas em python é mil graus :)\n",
    "- Apresente quantos caracteres possui o arquivo\n",
    "- Acrescente o texto: Python tem inúmeras bibliotecas para trabalhar com computação científica\n",
    "- Mostre o conteúdo do arquivo"
   ]
  },
  {
   "cell_type": "code",
   "execution_count": 62,
   "metadata": {},
   "outputs": [
    {
     "name": "stdout",
     "output_type": "stream",
     "text": [
      "47\n",
      "Desenvolver programas em python é mil graus :)\n",
      "Python tem inúmeras bibliotecas para trabalhar com computação científica\n",
      "\n"
     ]
    }
   ],
   "source": [
    "f = open(\"Registro.txt\", \"w\")\n",
    "f.write(\"Desenvolver programas em python é mil graus :)\\n\")\n",
    "f.close()\n",
    "\n",
    "f = open(\"Registro.txt\", \"r\")\n",
    "print(len(f.read()))\n",
    "f.close()\n",
    "\n",
    "f = open(\"Registro.txt\", \"a\")\n",
    "f.write(\"Python tem inúmeras bibliotecas para trabalhar com computação científica\\n\")\n",
    "f.close()\n",
    "\n",
    "f = open(\"Registro.txt\", \"r\")\n",
    "print(f.read())\n",
    "f.close()"
   ]
  }
 ],
 "metadata": {
  "kernelspec": {
   "display_name": "Python 3",
   "language": "python",
   "name": "python3"
  },
  "language_info": {
   "codemirror_mode": {
    "name": "ipython",
    "version": 3
   },
   "file_extension": ".py",
   "mimetype": "text/x-python",
   "name": "python",
   "nbconvert_exporter": "python",
   "pygments_lexer": "ipython3",
   "version": "3.7.4"
  }
 },
 "nbformat": 4,
 "nbformat_minor": 2
}
